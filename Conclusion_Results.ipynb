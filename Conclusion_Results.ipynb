{
 "cells": [
  {
   "cell_type": "markdown",
   "metadata": {},
   "source": [
    "# The Quest for the Paramount Paddle\n",
    "***"
   ]
  },
  {
   "cell_type": "markdown",
   "metadata": {},
   "source": [
    "2020 has been one crazy year! Quarantined for what was meant to be my final months of high school as a senior, I have had the lovely chance to spend a lot of time with my family before I head off for college. As a function of this status quo, I have had a series of intense table tennis matches with my dad. Almost all, ending with a bitter loss for myself. While deep down I recognize the massive skill discrepancy, I like to cover my losses with the \"My racket isn't as good as yours\" excuse. One day, after reaching my 37th loss, a thought crossed my mind: what if I used my data science skills to discover the greatest table tennis paddle. From that moment on, this project was born."
   ]
  },
  {
   "cell_type": "markdown",
   "metadata": {},
   "source": [
    "After some preliminary research, I was amazed to discover the vast amount of table tennis rubbers and blades(rackets) available on the market. With hundreds of rubbers and hundreds of blades to choose from, finding the right combination of rubber and blade is a lengthy endeavor."
   ]
  },
  {
   "cell_type": "markdown",
   "metadata": {},
   "source": [
    "In this project I seek to search for the optimal combination of table tennis rubber and blade for maxmimum speed and control. In the process I hope to also explore the table tennis market, brands and prices to make a more informed purchase."
   ]
  },
  {
   "cell_type": "markdown",
   "metadata": {},
   "source": [
    "**While this notebook only contains the analysis and results of my project, I have titled each section below with the name of the corresponding notebook for which the code can be found in the Github Repository.**"
   ]
  },
  {
   "cell_type": "markdown",
   "metadata": {},
   "source": [
    "## Data Cleaning"
   ]
  },
  {
   "cell_type": "markdown",
   "metadata": {},
   "source": [
    "Like with any data science project, the first step is data collection. After a quick google search I stumbled upon https://www.megaspin.net/. From this website I obtained two datasets containing a list a table of data with different performance measures: rubbers and blades. Loading in the rubbers data set, here is a snapshot of a chunk of the dataset: \n",
    "<img src=\"Images/data-original.JPG\">"
   ]
  },
  {
   "cell_type": "markdown",
   "metadata": {},
   "source": [
    "First I noticed the dollar sign in the \"Price\" column and created a lambda function to strip the sign. By removing the $ sign I was able to convert this column into numeric values. Next I handled certain issues I found in the Product_Name column. Since certain datapoints had an \"N\" or a \"B\" at the end of the name (delineating B for best seller and N for new item), I created a function using a lambda and replace function to remove these instances. Finally, I dealt with missing values in the \"Speed\", \"Spin\" and \"Control\" columns by replacing them with the mean of each column. While there are many other ways to impute missing values, I choose to use the mean approach based on the data distributions. After some more data wrangling, and applying many of the same cleaning procedures to the blades dataset, I was left with the following data\n",
    "<img src=\"Images/data_new.JPG\">"
   ]
  },
  {
   "cell_type": "markdown",
   "metadata": {},
   "source": [
    "Before moving on to the Data Exploration here are the features and descriptions for each dataset:\n",
    "\n",
    "_Rubbers_ :\n",
    "- Product_Name: The name of the specific rubber\n",
    "- Price: The price in dollars for that rubber\n",
    "- Spin: The spin rating for that rubber\n",
    "- Speed: The speed rating for that rubber\n",
    "- Control: The Control rating for that rubber\n",
    "\n",
    "_Blades_ :\n",
    "- Product_Name: The name of the specific blade\n",
    "- Price: The price in dollars for the specific blade\n",
    "- Speed: The speed rating for the blade\n",
    "- Control: The control rating for the blade\n",
    "- Weight (g): The weight in grams of the blade"
   ]
  },
  {
   "cell_type": "markdown",
   "metadata": {},
   "source": [
    "## Data Exploration Rubbers"
   ]
  },
  {
   "cell_type": "markdown",
   "metadata": {},
   "source": [
    "**Distributions**\n",
    "\n",
    "Before beginning any visualizations, I always like to take a look at the data distribution for each feature. This can help us when applying certain analysis on the data and also lets us find trends/frequent items.\n",
    "<img src = 'Images/distributions.png'  alt=\"Image\" style=\"height:400px; width:200px\">"
   ]
  },
  {
   "cell_type": "markdown",
   "metadata": {},
   "source": [
    "While all the features generally follow the normal distribution is is interesting to note how some features are skewed. Price is skewed to the right while Spin is skewed to the left. As I continue with the data exploration, these features may be important to look out for."
   ]
  },
  {
   "cell_type": "markdown",
   "metadata": {},
   "source": [
    "**Are certain rubber brands better than others?**\"\n",
    "\n",
    "After playing table tennis for many years, I have seen players play with different types of rubber brands. Despite the few outliers, in my experience, \"Butterfly\" has been by far the most common brand. Since my father plays with a \"Butterfly\", and I play with a \"Killerspin\", I was interested to compare the two brands on average against each other and the rest of the market. In doing so, I aimed to identify if certain brands stood out as the best, on average, versus the rest.\n",
    "\n",
    "After segmenting the rubber products by brand and using some nifty matplotlib/seaborn skills I created the following visualization:\n",
    "\n",
    "<img src = \"Images/rubber_brands.png\" >"
   ]
  },
  {
   "cell_type": "markdown",
   "metadata": {},
   "source": [
    "There's a lot to unpack here. First of all Killerspin rubbers, on average, have higher spin and control than Butterfly rubbers but falls behind in Speed rating (looks like my excuse wasn't so good after all). Next there are a few interesting trends that this visualization reveals:\n",
    "- Price: The top 5 cheapest rubbers, on average, include RITC, LKT, Gambler, Sanwei and Yasaka.\n",
    "- Spin: Sanwei and GEWO rubbers, on average, provide the most spin.\n",
    "- Speed: Sanwei and Victas rubbers, on average, are significantly faster than the rest of the brands.\n",
    "- Control: RITC, Sanwei, and GEWO are the optimal rubbers if you're seeeking control in your game. \n",
    "\n",
    "Conclusion: While this chart takes a holistic view of each brand, when taking into account all four features, Sanwei rubbers stand out as the most optimal choice, maximizing spin and speed while retaining above average control."
   ]
  },
  {
   "cell_type": "markdown",
   "metadata": {},
   "source": [
    "**How is price correlated with rubber spin, speed, and control ratings?**"
   ]
  },
  {
   "cell_type": "markdown",
   "metadata": {},
   "source": [
    "Based on the above chart I was able to see which brand of rubber, on average, had the best ratings. In addition to this chart, I wanted to see how these ratings were correlated with the price of the rubber. Is there a brand that offers great rubbers at a decent price point?\n",
    "\n",
    "Below I have plotted the rubber products, segmented by brand, spin, speed, and control ratings vs their price.\n",
    "\n",
    "<img src = 'Images/rubber_corr_spin.png' alt=\"Image\" style=\"height:400px; width:800px\">\n",
    "<img src = 'Images/rubber_corr_speed.png' alt=\"Image\" style=\"height:400px; width:800px\">\n",
    "<img src = 'Images/rubber_corr_control.png' alt=\"Image\" style=\"height:400px; width:800px\">"
   ]
  },
  {
   "cell_type": "markdown",
   "metadata": {},
   "source": [
    "Key Takeaways:\n",
    "- Rubbers with higher spin ratings are typically sold at higher prices. This makes sense as spin is a crucial factor is table tennis and significantly improves performance.\n",
    "- Rubbers with higher speed ratings are typically sold at higher prices. This makes sense as greater speed improves offensive performance.\n",
    "- Rubbers with higher control aren't necessarily sold at higher prices. This is likely because a feature I identified later in the analysis in the negative relationship between control and speed. Players tend to favor offensive play vs defensive, and therefore there is a higher demand for rackets with more speed and correspondingly less control."
   ]
  },
  {
   "cell_type": "markdown",
   "metadata": {},
   "source": [
    "## Data Exploration Blades"
   ]
  },
  {
   "cell_type": "markdown",
   "metadata": {},
   "source": [
    "**Relationships**\n",
    "\n",
    "Before exploring the blades dataset, the first thing I did was plot a pair plot showing the relationships between various features in the dataset. While many features didn't exhibit a relationship, a few surprisingly did. Below is the visualization I created.\n",
    "\n",
    "<img src = 'Images/blades_relationship.png' alt=\"Image\" style=\"height:400px; width:400px\">"
   ]
  },
  {
   "cell_type": "markdown",
   "metadata": {},
   "source": [
    "While many of the features didn't exhibit a relationship, two key relationships that stood out to me were between speed and control as well as speed and weight. As speed increased, the control of the blade drastically decreased. This sparked my interest in finding the optimal combination between speed and control which is what I'll explore later in the notebook. The other interesting relationship that I noticed was betweeen blade speed and blade weight. As the speed increased the weight of the blade also increased. Based on this I came to the conclusion that heavier blades, favoring speed, were typically tailored towards offensive style of play while the lighter blades, favoring control, were typically tailored for a defensive style of play. Based on this, I wondered whether certain brands of blades were better for offensive players or defensive players."
   ]
  },
  {
   "cell_type": "markdown",
   "metadata": {},
   "source": [
    "**Are certain brands better for offensive/defensive players?**\n",
    "\n",
    "First I calculated the difference between the heaviest blade and the lightest blade, finding the difference to be 44 grams. While 44 grams may not seem like a large difference, at the higher levels of ping pong it makes a significant difference. Typically heavier blades are favored by offensive players while lighter blades are favored by defensive players. Under the conclusion that heavier blades, which correlated with greater blade speed, were better for offensive players versus the lighter blades, which meant greater blade control, were better for defensive players I set out to plot a chart showing the average blade weights for each brand. Here are my findings:\n",
    "\n",
    "<img src = 'Images/weight.png'>"
   ]
  },
  {
   "cell_type": "markdown",
   "metadata": {},
   "source": [
    "From this bar chart we can see which comapanies favor offensive vs defensive style of play. XIOM creates heavier blades, on average, and thus most likely specializes in offense. On the other hand TSP creates lighter blades, on average, and thus most likely specializes in defense."
   ]
  },
  {
   "cell_type": "markdown",
   "metadata": {},
   "source": [
    "## K-Means Clustering"
   ]
  },
  {
   "cell_type": "markdown",
   "metadata": {},
   "source": [
    "**K-means who?**\n",
    "\n",
    "K-means clustering is an unsupervised(labels aren't provided) machine learning algorithm that searches for homogeneous data points to group together. Each group has data points that are as similiar as possible according to some measure(in this case the euclidean-based distance). This concept can be best understood with the following picture: \n",
    "\n",
    "<img src= 'Images/kmeans.jpg' alt=\"Image\" style=\"height:200px; width:300px\">"
   ]
  },
  {
   "cell_type": "markdown",
   "metadata": {},
   "source": [
    "**Our Situation**\n",
    "\n",
    "By applying the KMeans clustering algorithm to the rubbers and blades dataset, I aimed to discover if the data can be clustered into three categories representing the different types of play style: defensive, all-around, and offensive. Below are the results display in a scatterplot.\n",
    "\n",
    "<img src = 'Images/kmeans_rubbers.png'>\n",
    "<img src = 'Images/kmeans_blades.png'>\n"
   ]
  },
  {
   "cell_type": "markdown",
   "metadata": {},
   "source": [
    "Results:\n",
    "\n",
    "_Rubbers_ :\n",
    "- Looking at the rubbers scatterplot, the algorithm has revealed three clusters. The green corresponds to a low spin and speed and therefore can represent more defensive style players. The blue in the center displays a medium speed and spin most suitable for all-around players. Lastly the turquoise represents high speed and high speed, thereby being the most optimal rubber for offensive players.\n",
    "\n",
    "_Blades_ :\n",
    "- Looking at the blades scatterplot, the algorithm has revealed three clusters. The green corresponds to high speed and low control, most optimal for offensive players. The Blue represents medium control and medium speed, best for all-around players. Lastly, the turquoise representes low speed and high control best for defensive players."
   ]
  },
  {
   "cell_type": "markdown",
   "metadata": {},
   "source": [
    "## Pareto Efficiency"
   ]
  },
  {
   "cell_type": "markdown",
   "metadata": {},
   "source": [
    "**Who is Pareto and what does he want?**:\n",
    "\n",
    "The concept of the Pareto frontier was first proclaimed by the Italian engineer and economist Vilfredo Pareto and was applied to economic efficiency and income distribution. The concept refers to the \"collection of points where one objective cannot be improved without detriment to another objective\". These points, laying on the pareto frontier, are considered \"non-dominated\". For clarity you can reference the picture below.\n",
    "<img src=\"Images/pareto_frontier.png\">"
   ]
  },
  {
   "cell_type": "markdown",
   "metadata": {},
   "source": [
    "**Our Situation**\n",
    "\n",
    "By applying the concept of the Pareto Frontier, I can find the configurations that are most efficient for the qualities of speed and control when combining Rubber and Blade ratings. Having great speed is amazing in table tennis, but as we have seen earlier, this comes with the cost of less control. By finding the best combinations of speed and control I can get the best of both worlds. It is also important to note that I'm not taking into account spin and weight for efficiency. Spin is purely determined by the racket's rubber while weight is mainly determined by a racket's blade. \n",
    "\n",
    "To begin, I looked at the number of possible configurations between blade and rubber, finding the total to be 123,540 configurations. Based on this, I created the configurations, stored them in a dataframe, and then checked if each lay on the pareto frontier. The results are graphed in the visualization below.\n",
    "\n",
    "<img src= 'Images/pareto.png'>"
   ]
  },
  {
   "cell_type": "markdown",
   "metadata": {},
   "source": [
    "Out of the 123,000+ configurations possible, the pareto frontier has narrowed down the most efficient configurations to 17 possibilites. These possibilities are documented below.\n",
    "\n",
    "<img src= 'Images/pareto_frontier.JPG' alt=\"Image\" style=\"height:350px; width:600px\">"
   ]
  },
  {
   "cell_type": "markdown",
   "metadata": {},
   "source": [
    "## Conclusion + Future Possibilites"
   ]
  },
  {
   "cell_type": "markdown",
   "metadata": {},
   "source": [
    "Based on the analysis I was able to determine which rubber and blade combinations are the most efficient, and therefore the ones I should consider when purchasing a new racket. If I am soley concerned with speed I should definetly favor the GEWO Nexxus XT Pro 50 Hard Rubber with the JOOLA Quattro Carbon Blade. On the other hand, if I'm choosing to maximize control I should favor the Sanwei Target National Rubber with the JOOLA Chen Defender Blade. Futhermore I can try to get the optimal mix between control and speed by going with the GEWO Nexxus XT Pro 50 Hard Rubber with the Andro Treiber H Blade.\n",
    "\n",
    "**Future things to consider + Drawbacks:**\n",
    "- Factoring in customer ratings (sentiment analysis) for each product in coming to a decision of which rubber and blade combination to go with.\n",
    "- For many customers price may also be a significant conern, so weighting options by price may be something to consider.\n",
    "- Based on the great results from this analysis, it would be interesting to apply the same principles to optimizing tennis rackets."
   ]
  },
  {
   "cell_type": "markdown",
   "metadata": {},
   "source": [
    "## References"
   ]
  },
  {
   "cell_type": "markdown",
   "metadata": {},
   "source": [
    "- Datasets for Rubbers and Blades: https://www.megaspin.net/\n",
    "- Great Reference for Blade/Rubber Characteristics: https://www.pingpongdepot.com/speed-spin-control/\n",
    "- KMeans Clustering: https://towardsdatascience.com/k-means-clustering-algorithm-applications-evaluation-methods-and-drawbacks-aa03e644b48a\n",
    "- History and Theory of Pareto Efficiency:https://en.wikipedia.org/wiki/Pareto_efficiency\n",
    "- Medium Article by Civis Analytics showing practical implementation: https://medium.com/civis-analytics/the-best-mario-kart-character-according-to-data-science-7dfb65d4c18e\n",
    "- Pareto Application: https://pythonhealthcare.org/tag/pareto-front/"
   ]
  },
  {
   "cell_type": "code",
   "execution_count": null,
   "metadata": {},
   "outputs": [],
   "source": []
  }
 ],
 "metadata": {
  "kernelspec": {
   "display_name": "Python 3",
   "language": "python",
   "name": "python3"
  },
  "language_info": {
   "codemirror_mode": {
    "name": "ipython",
    "version": 3
   },
   "file_extension": ".py",
   "mimetype": "text/x-python",
   "name": "python",
   "nbconvert_exporter": "python",
   "pygments_lexer": "ipython3",
   "version": "3.8.1"
  }
 },
 "nbformat": 4,
 "nbformat_minor": 4
}
