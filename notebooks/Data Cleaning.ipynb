{
 "cells": [
  {
   "cell_type": "code",
   "execution_count": 2,
   "metadata": {},
   "outputs": [],
   "source": [
    "import pandas as pd\n",
    "import numpy as np"
   ]
  },
  {
   "cell_type": "code",
   "execution_count": 3,
   "metadata": {},
   "outputs": [],
   "source": [
    "#Loading in data sets\n",
    "rubber = pd.read_csv('data/Rubbers.csv')\n",
    "blade = pd.read_csv('data/Blades.csv')"
   ]
  },
  {
   "cell_type": "markdown",
   "metadata": {},
   "source": [
    "### Rubber Dataset"
   ]
  },
  {
   "cell_type": "code",
   "execution_count": 4,
   "metadata": {
    "scrolled": true
   },
   "outputs": [
    {
     "data": {
      "text/html": [
       "<div>\n",
       "<style scoped>\n",
       "    .dataframe tbody tr th:only-of-type {\n",
       "        vertical-align: middle;\n",
       "    }\n",
       "\n",
       "    .dataframe tbody tr th {\n",
       "        vertical-align: top;\n",
       "    }\n",
       "\n",
       "    .dataframe thead th {\n",
       "        text-align: right;\n",
       "    }\n",
       "</style>\n",
       "<table border=\"1\" class=\"dataframe\">\n",
       "  <thead>\n",
       "    <tr style=\"text-align: right;\">\n",
       "      <th></th>\n",
       "      <th>Product Name</th>\n",
       "      <th>Price</th>\n",
       "      <th>Spin</th>\n",
       "      <th>Speed</th>\n",
       "      <th>Control</th>\n",
       "    </tr>\n",
       "  </thead>\n",
       "  <tbody>\n",
       "    <tr>\n",
       "      <th>0</th>\n",
       "      <td>729 729-08ES</td>\n",
       "      <td>$22.00</td>\n",
       "      <td>120.0</td>\n",
       "      <td>110.0</td>\n",
       "      <td>120.0</td>\n",
       "    </tr>\n",
       "    <tr>\n",
       "      <th>1</th>\n",
       "      <td>729 Top Point</td>\n",
       "      <td>$18.00</td>\n",
       "      <td>110.0</td>\n",
       "      <td>120.0</td>\n",
       "      <td>110.0</td>\n",
       "    </tr>\n",
       "    <tr>\n",
       "      <th>2</th>\n",
       "      <td>Andro Backside 20D</td>\n",
       "      <td>$29.99</td>\n",
       "      <td>103.0</td>\n",
       "      <td>85.0</td>\n",
       "      <td>97.0</td>\n",
       "    </tr>\n",
       "    <tr>\n",
       "      <th>3</th>\n",
       "      <td>Andro Chaos</td>\n",
       "      <td>$29.99</td>\n",
       "      <td>73.0</td>\n",
       "      <td>75.0</td>\n",
       "      <td>87.0</td>\n",
       "    </tr>\n",
       "    <tr>\n",
       "      <th>4</th>\n",
       "      <td>Andro GTT 40</td>\n",
       "      <td>$24.99</td>\n",
       "      <td>101.0</td>\n",
       "      <td>96.0</td>\n",
       "      <td>92.0</td>\n",
       "    </tr>\n",
       "  </tbody>\n",
       "</table>\n",
       "</div>"
      ],
      "text/plain": [
       "         Product Name    Price   Spin  Speed  Control\n",
       "0        729 729-08ES  $22.00   120.0  110.0    120.0\n",
       "1       729 Top Point  $18.00   110.0  120.0    110.0\n",
       "2  Andro Backside 20D  $29.99   103.0   85.0     97.0\n",
       "3         Andro Chaos  $29.99    73.0   75.0     87.0\n",
       "4        Andro GTT 40  $24.99   101.0   96.0     92.0"
      ]
     },
     "execution_count": 4,
     "metadata": {},
     "output_type": "execute_result"
    }
   ],
   "source": [
    "rubber.head()"
   ]
  },
  {
   "cell_type": "code",
   "execution_count": 9,
   "metadata": {
    "scrolled": true
   },
   "outputs": [
    {
     "name": "stdout",
     "output_type": "stream",
     "text": [
      "False = Not Null count\n",
      "True = Null count\n"
     ]
    },
    {
     "data": {
      "text/html": [
       "<div>\n",
       "<style scoped>\n",
       "    .dataframe tbody tr th:only-of-type {\n",
       "        vertical-align: middle;\n",
       "    }\n",
       "\n",
       "    .dataframe tbody tr th {\n",
       "        vertical-align: top;\n",
       "    }\n",
       "\n",
       "    .dataframe thead th {\n",
       "        text-align: right;\n",
       "    }\n",
       "</style>\n",
       "<table border=\"1\" class=\"dataframe\">\n",
       "  <thead>\n",
       "    <tr style=\"text-align: right;\">\n",
       "      <th></th>\n",
       "      <th>Product Name</th>\n",
       "      <th>Price</th>\n",
       "      <th>Spin</th>\n",
       "      <th>Speed</th>\n",
       "      <th>Control</th>\n",
       "    </tr>\n",
       "  </thead>\n",
       "  <tbody>\n",
       "    <tr>\n",
       "      <th>False</th>\n",
       "      <td>348.0</td>\n",
       "      <td>348.0</td>\n",
       "      <td>329</td>\n",
       "      <td>339</td>\n",
       "      <td>233</td>\n",
       "    </tr>\n",
       "    <tr>\n",
       "      <th>True</th>\n",
       "      <td>0.0</td>\n",
       "      <td>0.0</td>\n",
       "      <td>19</td>\n",
       "      <td>9</td>\n",
       "      <td>115</td>\n",
       "    </tr>\n",
       "  </tbody>\n",
       "</table>\n",
       "</div>"
      ],
      "text/plain": [
       "       Product Name  Price  Spin  Speed  Control\n",
       "False         348.0  348.0   329    339      233\n",
       "True            0.0    0.0    19      9      115"
      ]
     },
     "execution_count": 9,
     "metadata": {},
     "output_type": "execute_result"
    }
   ],
   "source": [
    "# Null Values:\n",
    "def find_null(data):\n",
    "    null = {}\n",
    "    for column in data:\n",
    "        null[column] = data[column].isnull().value_counts()\n",
    "    null_values = pd.DataFrame(data = null)\n",
    "    null_values = null_values.fillna(0)\n",
    "    return null_values\n",
    "print('False = Not Null count')\n",
    "print('True = Null count')\n",
    "find_null(rubber)"
   ]
  },
  {
   "cell_type": "code",
   "execution_count": 10,
   "metadata": {},
   "outputs": [
    {
     "data": {
      "text/html": [
       "<div>\n",
       "<style scoped>\n",
       "    .dataframe tbody tr th:only-of-type {\n",
       "        vertical-align: middle;\n",
       "    }\n",
       "\n",
       "    .dataframe tbody tr th {\n",
       "        vertical-align: top;\n",
       "    }\n",
       "\n",
       "    .dataframe thead th {\n",
       "        text-align: right;\n",
       "    }\n",
       "</style>\n",
       "<table border=\"1\" class=\"dataframe\">\n",
       "  <thead>\n",
       "    <tr style=\"text-align: right;\">\n",
       "      <th></th>\n",
       "      <th>Product_Name</th>\n",
       "      <th>Price</th>\n",
       "      <th>Spin</th>\n",
       "      <th>Speed</th>\n",
       "      <th>Control</th>\n",
       "    </tr>\n",
       "  </thead>\n",
       "  <tbody>\n",
       "    <tr>\n",
       "      <th>343</th>\n",
       "      <td>Yasaka Valmo</td>\n",
       "      <td>29.95</td>\n",
       "      <td>90.0</td>\n",
       "      <td>99.0</td>\n",
       "      <td>86.0</td>\n",
       "    </tr>\n",
       "    <tr>\n",
       "      <th>344</th>\n",
       "      <td>Yasaka X-Tend HS</td>\n",
       "      <td>34.95</td>\n",
       "      <td>98.0</td>\n",
       "      <td>92.0</td>\n",
       "      <td>76.0</td>\n",
       "    </tr>\n",
       "    <tr>\n",
       "      <th>345</th>\n",
       "      <td>Yasaka X-Tend LB</td>\n",
       "      <td>14.95</td>\n",
       "      <td>120.0</td>\n",
       "      <td>110.0</td>\n",
       "      <td>80.0</td>\n",
       "    </tr>\n",
       "    <tr>\n",
       "      <th>346</th>\n",
       "      <td>Yasaka X-Tend PO</td>\n",
       "      <td>14.95</td>\n",
       "      <td>65.0</td>\n",
       "      <td>92.0</td>\n",
       "      <td>76.0</td>\n",
       "    </tr>\n",
       "    <tr>\n",
       "      <th>347</th>\n",
       "      <td>Yasaka X-Tend SD</td>\n",
       "      <td>33.95</td>\n",
       "      <td>120.0</td>\n",
       "      <td>110.0</td>\n",
       "      <td>80.0</td>\n",
       "    </tr>\n",
       "  </tbody>\n",
       "</table>\n",
       "</div>"
      ],
      "text/plain": [
       "          Product_Name  Price   Spin  Speed  Control\n",
       "343       Yasaka Valmo  29.95   90.0   99.0     86.0\n",
       "344   Yasaka X-Tend HS  34.95   98.0   92.0     76.0\n",
       "345  Yasaka X-Tend LB   14.95  120.0  110.0     80.0\n",
       "346  Yasaka X-Tend PO   14.95   65.0   92.0     76.0\n",
       "347   Yasaka X-Tend SD  33.95  120.0  110.0     80.0"
      ]
     },
     "execution_count": 10,
     "metadata": {},
     "output_type": "execute_result"
    }
   ],
   "source": [
    "#Rename Product Name Column\n",
    "rubber = rubber.rename(columns = {'Product Name': 'Product_Name'})\n",
    "\n",
    "#Remove dollar sign in Price column\n",
    "rubber['Price'] = rubber['Price'].apply(lambda x: x.strip('$'))\n",
    "rubber['Price'] = rubber['Price'].astype(float)\n",
    "\n",
    "#Dealing with NA values\n",
    "rubber['Spin'] = rubber['Spin'].fillna(rubber['Spin'].mean())\n",
    "rubber['Speed'] = rubber['Speed'].fillna(rubber['Speed'].mean())\n",
    "rubber['Control'] = rubber['Control'].fillna(rubber['Control'].mean())\n",
    "\n",
    "#Product_Name Issues\n",
    "rubber['Product_Name'] = rubber['Product_Name'].apply(lambda x: x.replace('\\xa0\\xa0B\\xa0', \" \")) \n",
    "rubber['Product_Name'] = rubber['Product_Name'].apply(lambda x: x.replace('\\xa0\\xa0N\\xa0', \" \"))\n",
    "\n",
    "rubber.tail()"
   ]
  },
  {
   "cell_type": "code",
   "execution_count": 11,
   "metadata": {
    "scrolled": true
   },
   "outputs": [
    {
     "name": "stdout",
     "output_type": "stream",
     "text": [
      "Features:\n",
      "Product Name: The name of the specific paddle rubber. Ex: Andro Chaos\n",
      "Price: The cost of the rubber in dollars. The data ranges from 9.95 to 93.99\n",
      "Spin: The spin rating for the rubber. The data ranges from 0.0 to 140.0\n",
      "Speed: The speed rating for the rubber. The data ranges from 30.0 to 182.0\n",
      "Control: The Control rating for the rubber. The data ranges from 35.0 to 120.0\n",
      "\n",
      "\n",
      "Summary Statistics for Ping Pong Rubbers:\n",
      "            Price        Spin       Speed     Control\n",
      "count  348.000000  348.000000  348.000000  348.000000\n",
      "mean    40.018161   94.747720   98.041298   80.742489\n",
      "std     15.424764   21.649158   25.514951   10.949261\n",
      "min      9.950000    0.000000   30.000000   35.000000\n",
      "25%     29.950000   90.000000   89.000000   74.000000\n",
      "50%     39.900000   97.000000   96.500000   80.742489\n",
      "75%     49.950000  107.000000  113.000000   85.000000\n",
      "max     93.990000  140.000000  182.000000  120.000000\n",
      "\n",
      "\n",
      "\n"
     ]
    }
   ],
   "source": [
    "print('Features:')\n",
    "print('Product Name: The name of the specific paddle rubber. Ex: {}'.format(\n",
    "rubber['Product_Name'][3]))\n",
    "print('Price: The cost of the rubber in dollars. The data ranges from {} to {}'.format(\n",
    "rubber['Price'].min(), rubber['Price'].max()))\n",
    "print('Spin: The spin rating for the rubber. The data ranges from {} to {}'.format(\n",
    "rubber['Spin'].min(), rubber['Spin'].max()))\n",
    "print('Speed: The speed rating for the rubber. The data ranges from {} to {}'.format(\n",
    "rubber['Speed'].min(), rubber['Speed'].max()))\n",
    "print('Control: The Control rating for the rubber. The data ranges from {} to {}'.format(\n",
    "rubber['Control'].min(), rubber['Control'].max()))\n",
    "print('\\n')\n",
    "\n",
    "print('Summary Statistics for Ping Pong Rubbers:')\n",
    "print(rubber.describe())\n",
    "print('\\n')\n",
    "print()"
   ]
  },
  {
   "cell_type": "code",
   "execution_count": 7,
   "metadata": {},
   "outputs": [],
   "source": [
    "#Saving cleaned dataset to csv\n",
    "rubber.to_csv(r'C:\\Users\\alida\\OneDrive\\Desktop\\Ping_Pong\\data\\Rubbers_new.csv', index = False)"
   ]
  },
  {
   "cell_type": "markdown",
   "metadata": {},
   "source": [
    "### Blade Dataset"
   ]
  },
  {
   "cell_type": "code",
   "execution_count": 8,
   "metadata": {},
   "outputs": [
    {
     "data": {
      "text/html": [
       "<div>\n",
       "<style scoped>\n",
       "    .dataframe tbody tr th:only-of-type {\n",
       "        vertical-align: middle;\n",
       "    }\n",
       "\n",
       "    .dataframe tbody tr th {\n",
       "        vertical-align: top;\n",
       "    }\n",
       "\n",
       "    .dataframe thead th {\n",
       "        text-align: right;\n",
       "    }\n",
       "</style>\n",
       "<table border=\"1\" class=\"dataframe\">\n",
       "  <thead>\n",
       "    <tr style=\"text-align: right;\">\n",
       "      <th></th>\n",
       "      <th>Product Name</th>\n",
       "      <th>Price</th>\n",
       "      <th>Speed</th>\n",
       "      <th>Control</th>\n",
       "      <th>Weight (g)</th>\n",
       "    </tr>\n",
       "  </thead>\n",
       "  <tbody>\n",
       "    <tr>\n",
       "      <th>0</th>\n",
       "      <td>Andro Blax All+</td>\n",
       "      <td>$35.99</td>\n",
       "      <td>85.0</td>\n",
       "      <td>95.0</td>\n",
       "      <td>73.0</td>\n",
       "    </tr>\n",
       "    <tr>\n",
       "      <th>1</th>\n",
       "      <td>Andro Blax Off</td>\n",
       "      <td>$35.99</td>\n",
       "      <td>92.0</td>\n",
       "      <td>92.0</td>\n",
       "      <td>78.0</td>\n",
       "    </tr>\n",
       "    <tr>\n",
       "      <th>2</th>\n",
       "      <td>Andro CS7 Pro</td>\n",
       "      <td>$39.99</td>\n",
       "      <td>92.0</td>\n",
       "      <td>94.0</td>\n",
       "      <td>90.0</td>\n",
       "    </tr>\n",
       "    <tr>\n",
       "      <th>3</th>\n",
       "      <td>Andro CS7 Tour</td>\n",
       "      <td>$39.99</td>\n",
       "      <td>94.0</td>\n",
       "      <td>93.0</td>\n",
       "      <td>90.0</td>\n",
       "    </tr>\n",
       "    <tr>\n",
       "      <th>4</th>\n",
       "      <td>Andro CS7 Velocity</td>\n",
       "      <td>$39.99</td>\n",
       "      <td>96.0</td>\n",
       "      <td>92.0</td>\n",
       "      <td>90.0</td>\n",
       "    </tr>\n",
       "  </tbody>\n",
       "</table>\n",
       "</div>"
      ],
      "text/plain": [
       "         Product Name    Price  Speed  Control  Weight (g)\n",
       "0     Andro Blax All+  $35.99    85.0     95.0        73.0\n",
       "1      Andro Blax Off  $35.99    92.0     92.0        78.0\n",
       "2       Andro CS7 Pro  $39.99    92.0     94.0        90.0\n",
       "3      Andro CS7 Tour  $39.99    94.0     93.0        90.0\n",
       "4  Andro CS7 Velocity  $39.99    96.0     92.0        90.0"
      ]
     },
     "execution_count": 8,
     "metadata": {},
     "output_type": "execute_result"
    }
   ],
   "source": [
    "blade.head()"
   ]
  },
  {
   "cell_type": "code",
   "execution_count": 9,
   "metadata": {},
   "outputs": [
    {
     "name": "stdout",
     "output_type": "stream",
     "text": [
      "False = Not Null count\n",
      "True = Null count\n"
     ]
    },
    {
     "data": {
      "text/html": [
       "<div>\n",
       "<style scoped>\n",
       "    .dataframe tbody tr th:only-of-type {\n",
       "        vertical-align: middle;\n",
       "    }\n",
       "\n",
       "    .dataframe tbody tr th {\n",
       "        vertical-align: top;\n",
       "    }\n",
       "\n",
       "    .dataframe thead th {\n",
       "        text-align: right;\n",
       "    }\n",
       "</style>\n",
       "<table border=\"1\" class=\"dataframe\">\n",
       "  <thead>\n",
       "    <tr style=\"text-align: right;\">\n",
       "      <th></th>\n",
       "      <th>Product Name</th>\n",
       "      <th>Price</th>\n",
       "      <th>Speed</th>\n",
       "      <th>Control</th>\n",
       "      <th>Weight (g)</th>\n",
       "    </tr>\n",
       "  </thead>\n",
       "  <tbody>\n",
       "    <tr>\n",
       "      <th>False</th>\n",
       "      <td>355.0</td>\n",
       "      <td>355.0</td>\n",
       "      <td>242</td>\n",
       "      <td>237</td>\n",
       "      <td>334</td>\n",
       "    </tr>\n",
       "    <tr>\n",
       "      <th>True</th>\n",
       "      <td>0.0</td>\n",
       "      <td>0.0</td>\n",
       "      <td>113</td>\n",
       "      <td>118</td>\n",
       "      <td>21</td>\n",
       "    </tr>\n",
       "  </tbody>\n",
       "</table>\n",
       "</div>"
      ],
      "text/plain": [
       "       Product Name  Price  Speed  Control  Weight (g)\n",
       "False         355.0  355.0    242      237         334\n",
       "True            0.0    0.0    113      118          21"
      ]
     },
     "execution_count": 9,
     "metadata": {},
     "output_type": "execute_result"
    }
   ],
   "source": [
    "print('False = Not Null count')\n",
    "print('True = Null count')\n",
    "find_null(blade)"
   ]
  },
  {
   "cell_type": "code",
   "execution_count": 10,
   "metadata": {},
   "outputs": [
    {
     "data": {
      "text/html": [
       "<div>\n",
       "<style scoped>\n",
       "    .dataframe tbody tr th:only-of-type {\n",
       "        vertical-align: middle;\n",
       "    }\n",
       "\n",
       "    .dataframe tbody tr th {\n",
       "        vertical-align: top;\n",
       "    }\n",
       "\n",
       "    .dataframe thead th {\n",
       "        text-align: right;\n",
       "    }\n",
       "</style>\n",
       "<table border=\"1\" class=\"dataframe\">\n",
       "  <thead>\n",
       "    <tr style=\"text-align: right;\">\n",
       "      <th></th>\n",
       "      <th>Product_Name</th>\n",
       "      <th>Price</th>\n",
       "      <th>Speed</th>\n",
       "      <th>Control</th>\n",
       "      <th>Weight (g)</th>\n",
       "    </tr>\n",
       "  </thead>\n",
       "  <tbody>\n",
       "    <tr>\n",
       "      <th>350</th>\n",
       "      <td>Yasaka Sweden Extra</td>\n",
       "      <td>35.95</td>\n",
       "      <td>82.0</td>\n",
       "      <td>71.0</td>\n",
       "      <td>84.0</td>\n",
       "    </tr>\n",
       "    <tr>\n",
       "      <th>351</th>\n",
       "      <td>Yasaka Sweden Extra - Chinese Penhold</td>\n",
       "      <td>35.95</td>\n",
       "      <td>82.0</td>\n",
       "      <td>71.0</td>\n",
       "      <td>86.0</td>\n",
       "    </tr>\n",
       "    <tr>\n",
       "      <th>352</th>\n",
       "      <td>Yasaka Sweden Guardian</td>\n",
       "      <td>42.95</td>\n",
       "      <td>73.0</td>\n",
       "      <td>93.0</td>\n",
       "      <td>85.0</td>\n",
       "    </tr>\n",
       "    <tr>\n",
       "      <th>353</th>\n",
       "      <td>Yasaka Synergy</td>\n",
       "      <td>49.95</td>\n",
       "      <td>98.0</td>\n",
       "      <td>69.0</td>\n",
       "      <td>82.0</td>\n",
       "    </tr>\n",
       "    <tr>\n",
       "      <th>354</th>\n",
       "      <td>Yasaka Synergy - Chinese Penhold</td>\n",
       "      <td>39.95</td>\n",
       "      <td>98.0</td>\n",
       "      <td>69.0</td>\n",
       "      <td>82.0</td>\n",
       "    </tr>\n",
       "  </tbody>\n",
       "</table>\n",
       "</div>"
      ],
      "text/plain": [
       "                              Product_Name  Price  Speed  Control  Weight (g)\n",
       "350                   Yasaka Sweden Extra   35.95   82.0     71.0        84.0\n",
       "351  Yasaka Sweden Extra - Chinese Penhold  35.95   82.0     71.0        86.0\n",
       "352                 Yasaka Sweden Guardian  42.95   73.0     93.0        85.0\n",
       "353                         Yasaka Synergy  49.95   98.0     69.0        82.0\n",
       "354       Yasaka Synergy - Chinese Penhold  39.95   98.0     69.0        82.0"
      ]
     },
     "execution_count": 10,
     "metadata": {},
     "output_type": "execute_result"
    }
   ],
   "source": [
    "#Rename Product Name Column\n",
    "blade = blade.rename(columns = {'Product Name': 'Product_Name'})\n",
    "\n",
    "#Remove dollar sign in Price column\n",
    "blade['Price'] = blade['Price'].apply(lambda x: x.strip('$'))\n",
    "blade['Price'] = blade['Price'].astype(float)\n",
    "\n",
    "#Dealing with NA values\n",
    "blade['Weight (g)'] = blade['Weight (g)'].fillna(blade['Weight (g)'].mean())\n",
    "blade['Speed'] = blade['Speed'].fillna(blade['Speed'].mean())\n",
    "blade['Control'] = blade['Control'].fillna(blade['Control'].mean())\n",
    "\n",
    "#Product_Name Issues\n",
    "blade['Product_Name'] = blade['Product_Name'].apply(lambda x: x.replace('\\xa0\\xa0B\\xa0', \" \")) \n",
    "blade['Product_Name'] = blade['Product_Name'].apply(lambda x: x.replace('\\xa0\\xa0N\\xa0', \" \"))\n",
    "\n",
    "blade.tail()"
   ]
  },
  {
   "cell_type": "code",
   "execution_count": 11,
   "metadata": {},
   "outputs": [
    {
     "name": "stdout",
     "output_type": "stream",
     "text": [
      "Features:\n",
      "Product Name: The name of the specific ping pong blade. Ex: Andro CS7 Tour\n",
      "Price: The cost of the blade in dollars. The data ranges from 8.95 to 599.99\n",
      "Speed: The speed rating for the blade. The data ranges from 50.0 to 113.0\n",
      "Control: The Control rating for the blade. The data ranges from 40.0 to 104.0\n",
      "Weight(g): The weight in grams of the blade. The data ranges from 59.0 to 103.0\n",
      "\n",
      "\n",
      "Summary Statistics for Ping Pong Rubbers:\n",
      "            Price       Speed     Control  Weight (g)\n",
      "count  355.000000  355.000000  355.000000  355.000000\n",
      "mean    95.601014   87.495868   78.101266   85.344311\n",
      "std     80.689263    8.993798   10.482373    5.875210\n",
      "min      8.950000   50.000000   40.000000   59.000000\n",
      "25%     44.445000   86.000000   74.000000   83.000000\n",
      "50%     65.950000   87.495868   78.101266   85.344311\n",
      "75%    109.990000   92.000000   82.500000   90.000000\n",
      "max    599.990000  113.000000  104.000000  103.000000\n",
      "\n",
      "\n",
      "\n"
     ]
    }
   ],
   "source": [
    "print('Features:')\n",
    "print('Product Name: The name of the specific ping pong blade. Ex: {}'.format(\n",
    "blade['Product_Name'][3]))\n",
    "print('Price: The cost of the blade in dollars. The data ranges from {} to {}'.format(\n",
    "blade['Price'].min(), blade['Price'].max()))\n",
    "print('Speed: The speed rating for the blade. The data ranges from {} to {}'.format(\n",
    "blade['Speed'].min(), blade['Speed'].max()))\n",
    "print('Control: The Control rating for the blade. The data ranges from {} to {}'.format(\n",
    "blade['Control'].min(), blade['Control'].max()))\n",
    "print('Weight(g): The weight in grams of the blade. The data ranges from {} to {}'.format(\n",
    "blade['Weight (g)'].min(), blade['Weight (g)'].max()))\n",
    "print('\\n')\n",
    "\n",
    "print('Summary Statistics for Ping Pong Rubbers:')\n",
    "print(blade.describe())\n",
    "print('\\n')\n",
    "print()"
   ]
  },
  {
   "cell_type": "code",
   "execution_count": 12,
   "metadata": {},
   "outputs": [],
   "source": [
    "blade.to_csv(r'C:\\Users\\alida\\OneDrive\\Desktop\\Ping_Pong\\data\\Blades_new.csv', index = False)"
   ]
  },
  {
   "cell_type": "code",
   "execution_count": null,
   "metadata": {},
   "outputs": [],
   "source": []
  }
 ],
 "metadata": {
  "kernelspec": {
   "display_name": "Python 3",
   "language": "python",
   "name": "python3"
  },
  "language_info": {
   "codemirror_mode": {
    "name": "ipython",
    "version": 3
   },
   "file_extension": ".py",
   "mimetype": "text/x-python",
   "name": "python",
   "nbconvert_exporter": "python",
   "pygments_lexer": "ipython3",
   "version": "3.8.1"
  }
 },
 "nbformat": 4,
 "nbformat_minor": 4
}
